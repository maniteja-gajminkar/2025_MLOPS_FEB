{
 "cells": [
  {
   "cell_type": "code",
   "execution_count": 1,
   "id": "908579b8",
   "metadata": {},
   "outputs": [
    {
     "name": "stdout",
     "output_type": "stream",
     "text": [
      "hello\n"
     ]
    }
   ],
   "source": [
    "print(\"hello\")"
   ]
  },
  {
   "cell_type": "code",
   "execution_count": 2,
   "id": "0f35eddf",
   "metadata": {},
   "outputs": [
    {
     "name": "stdout",
     "output_type": "stream",
     "text": [
      "second change in code\n"
     ]
    }
   ],
   "source": [
    "print(\"second change in code\")"
   ]
  },
  {
   "cell_type": "code",
   "execution_count": null,
   "id": "34dff802",
   "metadata": {},
   "outputs": [],
   "source": [
    "print(\"third change\")"
   ]
  },
  {
   "cell_type": "code",
   "execution_count": null,
   "id": "fffea022",
   "metadata": {},
   "outputs": [
    {
     "name": "stdout",
     "output_type": "stream",
     "text": [
      "4thchange\n"
     ]
    }
   ],
   "source": [
    "print(\"4thchanges\")"
   ]
  }
 ],
 "metadata": {
  "kernelspec": {
   "display_name": "base",
   "language": "python",
   "name": "python3"
  },
  "language_info": {
   "codemirror_mode": {
    "name": "ipython",
    "version": 3
   },
   "file_extension": ".py",
   "mimetype": "text/x-python",
   "name": "python",
   "nbconvert_exporter": "python",
   "pygments_lexer": "ipython3",
   "version": "3.12.7"
  }
 },
 "nbformat": 4,
 "nbformat_minor": 5
}
